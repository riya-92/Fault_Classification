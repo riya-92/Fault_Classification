{
 "cells": [
  {
   "cell_type": "code",
   "execution_count": null,
   "id": "fz0FTjyGpVc3",
   "metadata": {
    "colab": {
     "base_uri": "https://localhost:8080/"
    },
    "id": "fz0FTjyGpVc3",
    "outputId": "d09c1b20-e084-4044-b95a-aaf74e79ca2a"
   },
   "outputs": [
    {
     "name": "stdout",
     "output_type": "stream",
     "text": [
      "Mounted at /content/drive\n"
     ]
    }
   ],
   "source": [
    "from google.colab import drive\n",
    "drive.mount('/content/drive')"
   ]
  },
  {
   "cell_type": "code",
   "execution_count": null,
   "id": "AW37jU6mogwu",
   "metadata": {
    "id": "AW37jU6mogwu"
   },
   "outputs": [],
   "source": [
    "import os\n",
    "os.chdir('drive/MyDrive/faultSeg-master')"
   ]
  },
  {
   "cell_type": "code",
   "execution_count": null,
   "id": "Y4HpS87h8Kbj",
   "metadata": {
    "colab": {
     "base_uri": "https://localhost:8080/",
     "height": 36
    },
    "id": "Y4HpS87h8Kbj",
    "outputId": "add9c3fc-ddd6-4856-b835-434df6a762b4"
   },
   "outputs": [
    {
     "data": {
      "application/vnd.google.colaboratory.intrinsic+json": {
       "type": "string"
      },
      "text/plain": [
       "'/content/drive/MyDrive/faultSeg-master'"
      ]
     },
     "execution_count": 3,
     "metadata": {},
     "output_type": "execute_result"
    }
   ],
   "source": [
    "import os\n",
    "os.getcwd()"
   ]
  },
  {
   "cell_type": "code",
   "execution_count": null,
   "id": "d753a6cf",
   "metadata": {
    "id": "d753a6cf"
   },
   "outputs": [],
   "source": [
    "from numpy.random import seed\n",
    "seed(12345)\n",
    "#from tensorflow import set_random_seed\n",
    "import tensorflow\n",
    "tensorflow.random.set_seed(1234)\n",
    "\n",
    "#set_random_seed(1234)\n",
    "import os\n",
    "import random\n",
    "import numpy as np\n",
    "import skimage\n",
    "import matplotlib.pyplot as plt\n",
    "from keras.models import *\n",
    "from keras.layers import *\n",
    "from keras.optimizers import *\n",
    "from keras.callbacks import ModelCheckpoint, LearningRateScheduler, ReduceLROnPlateau, TensorBoard\n",
    "from keras import backend as keras\n",
    "from utils import DataGenerator\n",
    "from keras.utils import DataGenerator\n",
    "from tensorflow.keras.utils import DataGenerator\n",
    "from unet3 import *\n",
    "import datetime\n"
   ]
  },
  {
   "cell_type": "code",
   "execution_count": null,
   "id": "13e65e8d",
   "metadata": {
    "colab": {
     "base_uri": "https://localhost:8080/",
     "height": 36
    },
    "id": "13e65e8d",
    "outputId": "413cf274-e87a-4a52-ea35-123f6cea41f6"
   },
   "outputs": [
    {
     "data": {
      "application/vnd.google.colaboratory.intrinsic+json": {
       "type": "string"
      },
      "text/plain": [
       "'2.12.0'"
      ]
     },
     "execution_count": 5,
     "metadata": {},
     "output_type": "execute_result"
    }
   ],
   "source": [
    "import tensorflow as tf\n",
    "tf.__version__"
   ]
  },
  {
   "cell_type": "code",
   "execution_count": 5,
   "id": "cab83fa9",
   "metadata": {},
   "outputs": [],
   "source": [
    "def showHistory(history):\n",
    "  # list all data in history\n",
    "  print(history.history.keys())\n",
    "  fig = plt.figure(figsize=(10,6))\n",
    "\n",
    "  # summarize history for accuracy\n",
    "  plt.plot(history.history['acc'])\n",
    "  plt.plot(history.history['val_acc'])\n",
    "  plt.title('Model accuracy',fontsize=20)\n",
    "  plt.ylabel('Accuracy',fontsize=20)\n",
    "  plt.xlabel('Epoch',fontsize=20)\n",
    "  plt.legend(['train', 'test'], loc='center right',fontsize=20)\n",
    "  plt.tick_params(axis='both', which='major', labelsize=18)\n",
    "  plt.tick_params(axis='both', which='minor', labelsize=18)\n",
    "  plt.show()\n",
    "\n",
    "  # summarize history for loss\n",
    "  fig = plt.figure(figsize=(10,6))\n",
    "  plt.plot(history.history['loss'])\n",
    "  plt.plot(history.history['val_loss'])\n",
    "  plt.title('Model loss',fontsize=20)\n",
    "  plt.ylabel('Loss',fontsize=20)\n",
    "  plt.xlabel('Epoch',fontsize=20)\n",
    "  plt.legend(['train', 'test'], loc='center right',fontsize=20)\n",
    "  plt.tick_params(axis='both', which='major', labelsize=18)\n",
    "  plt.tick_params(axis='both', which='minor', labelsize=18)\n",
    "  plt.show()"
   ]
  },
  {
   "cell_type": "code",
   "execution_count": 6,
   "id": "8e27fbfd",
   "metadata": {},
   "outputs": [],
   "source": [
    "class TrainValTensorBoard(TensorBoard):\n",
    "    def __init__(self, log_dir='./log1', **kwargs):\n",
    "        # Make the original `TensorBoard` log to a subdirectory 'training'\n",
    "        training_log_dir = os.path.join(log_dir, 'training')\n",
    "        super(TrainValTensorBoard, self).__init__(training_log_dir, **kwargs)\n",
    "        # Log the validation metrics to a separate subdirectory\n",
    "        self.val_log_dir = os.path.join(log_dir, 'validation')\n",
    "    def set_model(self, model):\n",
    "        # Setup writer for validation metrics\n",
    "        #self.val_writer = tf.summary.FileWriter(self.val_log_dir)\n",
    "        self.val_writer = tf.summary.create_file_writer(self.val_log_dir)\n",
    "        super(TrainValTensorBoard, self).set_model(model)\n",
    "    def on_epoch_end(self, epoch, logs=None):\n",
    "        # Pop the validation logs and handle them separately with\n",
    "        # `self.val_writer`. Also rename the keys so that they can\n",
    "        # be plotted on the same figure with the training metrics\n",
    "        logs = logs or {}\n",
    "        val_logs = {k.replace('val_', ''): v for k, v in logs.items() if k.startswith('val_')}\n",
    "        for name, value in val_logs.items():\n",
    "            summary = tf.Summary()\n",
    "            summary_value = summary.value.add()\n",
    "            summary_value.simple_value = value.item()\n",
    "            summary_value.tag = name\n",
    "            self.val_writer.add_summary(summary, epoch)\n",
    "        self.val_writer.flush()\n",
    "        # Pass the remaining logs to `TensorBoard.on_epoch_end`\n",
    "        logs = {k: v for k, v in logs.items() if not k.startswith('val_')}\n",
    "        logs.update({'lr': keras.eval(self.model.optimizer.lr)})\n",
    "        super(TrainValTensorBoard, self).on_epoch_end(epoch, logs)\n",
    "    def on_train_end(self, logs=None):\n",
    "        super(TrainValTensorBoard, self).on_train_end(logs)\n",
    "        self.val_writer.close()"
   ]
  },
  {
   "cell_type": "code",
   "execution_count": null,
   "id": "4Hh0fey-bfWz",
   "metadata": {
    "colab": {
     "background_save": true
    },
    "id": "4Hh0fey-bfWz"
   },
   "outputs": [],
   "source": [
    "def main():\n",
    "  goTrain()\n",
    "\n",
    "def goTrain():\n",
    "  # input image dimensions\n",
    "    params = {'batch_size':1,\n",
    "          'dim':(128,128,128),\n",
    "          'n_channels':1,\n",
    "          'shuffle': True}\n",
    "\n",
    "    BATCH_SIZE = 1\n",
    "    STEPS_PER_EPOCH = 100 / BATCH_SIZE\n",
    "    SAVE_PERIOD = 10\n",
    "\n",
    "\n",
    "    logdir = \"./logtf/\"\n",
    "    seismPathT = \"./data/train/seis/\"\n",
    "    faultPathT = \"./data/train/fault/\"\n",
    "\n",
    "    seismPathV = \"./data/validation/seis/\"\n",
    "    faultPathV = \"./data/validation/fault/\"\n",
    "    train_ID = range(100)\n",
    "    valid_ID = range(20)\n",
    "    train_generator = DataGenerator(dpath=seismPathT,fpath=faultPathT,\n",
    "                                  data_IDs=train_ID,**params)\n",
    "    valid_generator = DataGenerator(dpath=seismPathV,fpath=faultPathV,\n",
    "                                  data_IDs=valid_ID,**params)\n",
    "    model = unet(input_size=(None, None, None,1))\n",
    "    model.compile(optimizer=Adam(lr=1e-4), loss='binary_crossentropy',\n",
    "                metrics=['accuracy'])\n",
    "    model.summary()\n",
    "\n",
    "\n",
    "\n",
    "# checkpoint\n",
    "    filepath=\"./check1/fseg-{epoch:02d}.hdf5\"\n",
    "    # checkpoint = ModelCheckpoint(filepath, monitor='val_acc',\n",
    "    #     verbose=1, save_best_only=True, mode='max',save_freq=10)\n",
    "\n",
    "    cp_callback = ModelCheckpoint(\n",
    "    filepath= filepath,\n",
    "    verbose=1,\n",
    "    save_weights_only=True,\n",
    "    save_freq= int(SAVE_PERIOD * STEPS_PER_EPOCH))\n",
    "\n",
    "    print(\"data prepared, ready to train!\")\n",
    "    # Fit the model\n",
    "    tensorboard_callback = tensorflow.keras.callbacks.TensorBoard(log_dir=logdir,histogram_freq=0,\n",
    "          write_graph=True, write_images=True)\n",
    "    history=model.fit_generator(generator=train_generator,\n",
    "    validation_data=valid_generator,epochs=100,callbacks=[tensorboard_callback, cp_callback],verbose=1)\n",
    "\n",
    "    print(\"Average test loss: \", np.average(history.history['loss']))\n"
   ]
  },
  {
   "cell_type": "code",
   "execution_count": 7,
   "id": "56447c03",
   "metadata": {
    "scrolled": true
   },
   "outputs": [
    {
     "name": "stdout",
     "output_type": "stream",
     "text": [
      "Model: \"model\"\n",
      "__________________________________________________________________________________________________\n",
      " Layer (type)                   Output Shape         Param #     Connected to                     \n",
      "==================================================================================================\n",
      " input_1 (InputLayer)           [(None, None, None,  0           []                               \n",
      "                                 None, 1)]                                                        \n",
      "                                                                                                  \n",
      " conv3d (Conv3D)                (None, None, None,   448         ['input_1[0][0]']                \n",
      "                                None, 16)                                                         \n",
      "                                                                                                  \n",
      " conv3d_1 (Conv3D)              (None, None, None,   6928        ['conv3d[0][0]']                 \n",
      "                                None, 16)                                                         \n",
      "                                                                                                  \n",
      " max_pooling3d (MaxPooling3D)   (None, None, None,   0           ['conv3d_1[0][0]']               \n",
      "                                None, 16)                                                         \n",
      "                                                                                                  \n",
      " conv3d_2 (Conv3D)              (None, None, None,   13856       ['max_pooling3d[0][0]']          \n",
      "                                None, 32)                                                         \n",
      "                                                                                                  \n",
      " conv3d_3 (Conv3D)              (None, None, None,   27680       ['conv3d_2[0][0]']               \n",
      "                                None, 32)                                                         \n",
      "                                                                                                  \n",
      " max_pooling3d_1 (MaxPooling3D)  (None, None, None,   0          ['conv3d_3[0][0]']               \n",
      "                                None, 32)                                                         \n",
      "                                                                                                  \n",
      " conv3d_4 (Conv3D)              (None, None, None,   55360       ['max_pooling3d_1[0][0]']        \n",
      "                                None, 64)                                                         \n",
      "                                                                                                  \n",
      " conv3d_5 (Conv3D)              (None, None, None,   110656      ['conv3d_4[0][0]']               \n",
      "                                None, 64)                                                         \n",
      "                                                                                                  \n",
      " max_pooling3d_2 (MaxPooling3D)  (None, None, None,   0          ['conv3d_5[0][0]']               \n",
      "                                None, 64)                                                         \n",
      "                                                                                                  \n",
      " conv3d_6 (Conv3D)              (None, None, None,   221312      ['max_pooling3d_2[0][0]']        \n",
      "                                None, 128)                                                        \n",
      "                                                                                                  \n",
      " conv3d_7 (Conv3D)              (None, None, None,   442496      ['conv3d_6[0][0]']               \n",
      "                                None, 128)                                                        \n",
      "                                                                                                  \n",
      " up_sampling3d (UpSampling3D)   (None, None, None,   0           ['conv3d_7[0][0]']               \n",
      "                                None, 128)                                                        \n",
      "                                                                                                  \n",
      " concatenate (Concatenate)      (None, None, None,   0           ['up_sampling3d[0][0]',          \n",
      "                                None, 192)                        'conv3d_5[0][0]']               \n",
      "                                                                                                  \n",
      " conv3d_8 (Conv3D)              (None, None, None,   331840      ['concatenate[0][0]']            \n",
      "                                None, 64)                                                         \n",
      "                                                                                                  \n",
      " conv3d_9 (Conv3D)              (None, None, None,   110656      ['conv3d_8[0][0]']               \n",
      "                                None, 64)                                                         \n",
      "                                                                                                  \n",
      " up_sampling3d_1 (UpSampling3D)  (None, None, None,   0          ['conv3d_9[0][0]']               \n",
      "                                None, 64)                                                         \n",
      "                                                                                                  \n",
      " concatenate_1 (Concatenate)    (None, None, None,   0           ['up_sampling3d_1[0][0]',        \n",
      "                                None, 96)                         'conv3d_3[0][0]']               \n",
      "                                                                                                  \n",
      " conv3d_10 (Conv3D)             (None, None, None,   82976       ['concatenate_1[0][0]']          \n",
      "                                None, 32)                                                         \n",
      "                                                                                                  \n",
      " conv3d_11 (Conv3D)             (None, None, None,   27680       ['conv3d_10[0][0]']              \n",
      "                                None, 32)                                                         \n",
      "                                                                                                  \n",
      " up_sampling3d_2 (UpSampling3D)  (None, None, None,   0          ['conv3d_11[0][0]']              \n",
      "                                None, 32)                                                         \n",
      "                                                                                                  \n",
      " concatenate_2 (Concatenate)    (None, None, None,   0           ['up_sampling3d_2[0][0]',        \n",
      "                                None, 48)                         'conv3d_1[0][0]']               \n",
      "                                                                                                  \n",
      " conv3d_12 (Conv3D)             (None, None, None,   20752       ['concatenate_2[0][0]']          \n",
      "                                None, 16)                                                         \n",
      "                                                                                                  \n",
      " conv3d_13 (Conv3D)             (None, None, None,   6928        ['conv3d_12[0][0]']              \n",
      "                                None, 16)                                                         \n",
      "                                                                                                  \n",
      " conv3d_14 (Conv3D)             (None, None, None,   17          ['conv3d_13[0][0]']              \n",
      "                                None, 1)                                                          \n",
      "                                                                                                  \n",
      "==================================================================================================\n",
      "Total params: 1,459,585\n",
      "Trainable params: 1,459,585\n",
      "Non-trainable params: 0\n",
      "__________________________________________________________________________________________________\n",
      "Model: \"model\"\n",
      "__________________________________________________________________________________________________\n",
      " Layer (type)                   Output Shape         Param #     Connected to                     \n"
     ]
    },
    {
     "name": "stdout",
     "output_type": "stream",
     "text": [
      "==================================================================================================\n",
      " input_1 (InputLayer)           [(None, None, None,  0           []                               \n",
      "                                 None, 1)]                                                        \n",
      "                                                                                                  \n",
      " conv3d (Conv3D)                (None, None, None,   448         ['input_1[0][0]']                \n",
      "                                None, 16)                                                         \n",
      "                                                                                                  \n",
      " conv3d_1 (Conv3D)              (None, None, None,   6928        ['conv3d[0][0]']                 \n",
      "                                None, 16)                                                         \n",
      "                                                                                                  \n",
      " max_pooling3d (MaxPooling3D)   (None, None, None,   0           ['conv3d_1[0][0]']               \n",
      "                                None, 16)                                                         \n",
      "                                                                                                  \n",
      " conv3d_2 (Conv3D)              (None, None, None,   13856       ['max_pooling3d[0][0]']          \n",
      "                                None, 32)                                                         \n",
      "                                                                                                  \n",
      " conv3d_3 (Conv3D)              (None, None, None,   27680       ['conv3d_2[0][0]']               \n",
      "                                None, 32)                                                         \n",
      "                                                                                                  \n",
      " max_pooling3d_1 (MaxPooling3D)  (None, None, None,   0          ['conv3d_3[0][0]']               \n",
      "                                None, 32)                                                         \n",
      "                                                                                                  \n",
      " conv3d_4 (Conv3D)              (None, None, None,   55360       ['max_pooling3d_1[0][0]']        \n",
      "                                None, 64)                                                         \n",
      "                                                                                                  \n",
      " conv3d_5 (Conv3D)              (None, None, None,   110656      ['conv3d_4[0][0]']               \n",
      "                                None, 64)                                                         \n",
      "                                                                                                  \n",
      " max_pooling3d_2 (MaxPooling3D)  (None, None, None,   0          ['conv3d_5[0][0]']               \n",
      "                                None, 64)                                                         \n",
      "                                                                                                  \n",
      " conv3d_6 (Conv3D)              (None, None, None,   221312      ['max_pooling3d_2[0][0]']        \n",
      "                                None, 128)                                                        \n",
      "                                                                                                  \n",
      " conv3d_7 (Conv3D)              (None, None, None,   442496      ['conv3d_6[0][0]']               \n",
      "                                None, 128)                                                        \n",
      "                                                                                                  \n",
      " up_sampling3d (UpSampling3D)   (None, None, None,   0           ['conv3d_7[0][0]']               \n",
      "                                None, 128)                                                        \n",
      "                                                                                                  \n",
      " concatenate (Concatenate)      (None, None, None,   0           ['up_sampling3d[0][0]',          \n",
      "                                None, 192)                        'conv3d_5[0][0]']               \n",
      "                                                                                                  \n",
      " conv3d_8 (Conv3D)              (None, None, None,   331840      ['concatenate[0][0]']            \n",
      "                                None, 64)                                                         \n",
      "                                                                                                  \n",
      " conv3d_9 (Conv3D)              (None, None, None,   110656      ['conv3d_8[0][0]']               \n",
      "                                None, 64)                                                         \n",
      "                                                                                                  \n",
      " up_sampling3d_1 (UpSampling3D)  (None, None, None,   0          ['conv3d_9[0][0]']               \n",
      "                                None, 64)                                                         \n",
      "                                                                                                  \n",
      " concatenate_1 (Concatenate)    (None, None, None,   0           ['up_sampling3d_1[0][0]',        \n",
      "                                None, 96)                         'conv3d_3[0][0]']               \n",
      "                                                                                                  \n",
      " conv3d_10 (Conv3D)             (None, None, None,   82976       ['concatenate_1[0][0]']          \n",
      "                                None, 32)                                                         \n",
      "                                                                                                  \n",
      " conv3d_11 (Conv3D)             (None, None, None,   27680       ['conv3d_10[0][0]']              \n",
      "                                None, 32)                                                         \n",
      "                                                                                                  \n",
      " up_sampling3d_2 (UpSampling3D)  (None, None, None,   0          ['conv3d_11[0][0]']              \n",
      "                                None, 32)                                                         \n",
      "                                                                                                  \n",
      " concatenate_2 (Concatenate)    (None, None, None,   0           ['up_sampling3d_2[0][0]',        \n",
      "                                None, 48)                         'conv3d_1[0][0]']               \n",
      "                                                                                                  \n",
      " conv3d_12 (Conv3D)             (None, None, None,   20752       ['concatenate_2[0][0]']          \n",
      "                                None, 16)                                                         \n",
      "                                                                                                  \n",
      " conv3d_13 (Conv3D)             (None, None, None,   6928        ['conv3d_12[0][0]']              \n",
      "                                None, 16)                                                         \n",
      "                                                                                                  \n",
      " conv3d_14 (Conv3D)             (None, None, None,   17          ['conv3d_13[0][0]']              \n",
      "                                None, 1)                                                          \n",
      "                                                                                                  \n",
      "==================================================================================================\n",
      "Total params: 1,459,585\n",
      "Trainable params: 1,459,585\n",
      "Non-trainable params: 0\n",
      "__________________________________________________________________________________________________\n",
      "data prepared, ready to train!\n"
     ]
    },
    {
     "name": "stderr",
     "output_type": "stream",
     "text": [
      "E:\\Software\\lib\\site-packages\\keras\\optimizers\\optimizer_v2\\adam.py:117: UserWarning: The `lr` argument is deprecated, use `learning_rate` instead.\n",
      "  super().__init__(name, **kwargs)\n",
      "C:\\Users\\DELL\\AppData\\Local\\Temp\\ipykernel_5004\\3113077462.py:39: UserWarning: `Model.fit_generator` is deprecated and will be removed in a future version. Please use `Model.fit`, which supports generators.\n",
      "  history=model.fit_generator(generator=train_generator,\n"
     ]
    },
    {
     "name": "stdout",
     "output_type": "stream",
     "text": [
      "Epoch 1/100\n",
      " 10/100 [==>...........................] - ETA: 12:23:00 - loss: 0.6691 - accuracy: 0.7184"
     ]
    },
    {
     "ename": "ResourceExhaustedError",
     "evalue": "Graph execution error:\n\nDetected at node 'gradient_tape/model/conv3d_12/Conv3D/Conv3DBackpropFilterV2' defined at (most recent call last):\n    File \"E:\\Software\\lib\\runpy.py\", line 197, in _run_module_as_main\n      return _run_code(code, main_globals, None,\n    File \"E:\\Software\\lib\\runpy.py\", line 87, in _run_code\n      exec(code, run_globals)\n    File \"E:\\Software\\lib\\site-packages\\ipykernel_launcher.py\", line 17, in <module>\n      app.launch_new_instance()\n    File \"E:\\Software\\lib\\site-packages\\traitlets\\config\\application.py\", line 846, in launch_instance\n      app.start()\n    File \"E:\\Software\\lib\\site-packages\\ipykernel\\kernelapp.py\", line 712, in start\n      self.io_loop.start()\n    File \"E:\\Software\\lib\\site-packages\\tornado\\platform\\asyncio.py\", line 199, in start\n      self.asyncio_loop.run_forever()\n    File \"E:\\Software\\lib\\asyncio\\base_events.py\", line 601, in run_forever\n      self._run_once()\n    File \"E:\\Software\\lib\\asyncio\\base_events.py\", line 1905, in _run_once\n      handle._run()\n    File \"E:\\Software\\lib\\asyncio\\events.py\", line 80, in _run\n      self._context.run(self._callback, *self._args)\n    File \"E:\\Software\\lib\\site-packages\\ipykernel\\kernelbase.py\", line 510, in dispatch_queue\n      await self.process_one()\n    File \"E:\\Software\\lib\\site-packages\\ipykernel\\kernelbase.py\", line 499, in process_one\n      await dispatch(*args)\n    File \"E:\\Software\\lib\\site-packages\\ipykernel\\kernelbase.py\", line 406, in dispatch_shell\n      await result\n    File \"E:\\Software\\lib\\site-packages\\ipykernel\\kernelbase.py\", line 730, in execute_request\n      reply_content = await reply_content\n    File \"E:\\Software\\lib\\site-packages\\ipykernel\\ipkernel.py\", line 390, in do_execute\n      res = shell.run_cell(code, store_history=store_history, silent=silent)\n    File \"E:\\Software\\lib\\site-packages\\ipykernel\\zmqshell.py\", line 528, in run_cell\n      return super().run_cell(*args, **kwargs)\n    File \"E:\\Software\\lib\\site-packages\\IPython\\core\\interactiveshell.py\", line 2914, in run_cell\n      result = self._run_cell(\n    File \"E:\\Software\\lib\\site-packages\\IPython\\core\\interactiveshell.py\", line 2960, in _run_cell\n      return runner(coro)\n    File \"E:\\Software\\lib\\site-packages\\IPython\\core\\async_helpers.py\", line 78, in _pseudo_sync_runner\n      coro.send(None)\n    File \"E:\\Software\\lib\\site-packages\\IPython\\core\\interactiveshell.py\", line 3185, in run_cell_async\n      has_raised = await self.run_ast_nodes(code_ast.body, cell_name,\n    File \"E:\\Software\\lib\\site-packages\\IPython\\core\\interactiveshell.py\", line 3377, in run_ast_nodes\n      if (await self.run_code(code, result,  async_=asy)):\n    File \"E:\\Software\\lib\\site-packages\\IPython\\core\\interactiveshell.py\", line 3457, in run_code\n      exec(code_obj, self.user_global_ns, self.user_ns)\n    File \"C:\\Users\\DELL\\AppData\\Local\\Temp\\ipykernel_5004\\217905245.py\", line 2, in <module>\n      main()\n    File \"C:\\Users\\DELL\\AppData\\Local\\Temp\\ipykernel_5004\\3113077462.py\", line 2, in main\n      goTrain()\n    File \"C:\\Users\\DELL\\AppData\\Local\\Temp\\ipykernel_5004\\3113077462.py\", line 39, in goTrain\n      history=model.fit_generator(generator=train_generator,\n    File \"E:\\Software\\lib\\site-packages\\keras\\engine\\training.py\", line 2604, in fit_generator\n      return self.fit(\n    File \"E:\\Software\\lib\\site-packages\\keras\\utils\\traceback_utils.py\", line 65, in error_handler\n      return fn(*args, **kwargs)\n    File \"E:\\Software\\lib\\site-packages\\keras\\engine\\training.py\", line 1650, in fit\n      tmp_logs = self.train_function(iterator)\n    File \"E:\\Software\\lib\\site-packages\\keras\\engine\\training.py\", line 1249, in train_function\n      return step_function(self, iterator)\n    File \"E:\\Software\\lib\\site-packages\\keras\\engine\\training.py\", line 1233, in step_function\n      outputs = model.distribute_strategy.run(run_step, args=(data,))\n    File \"E:\\Software\\lib\\site-packages\\keras\\engine\\training.py\", line 1222, in run_step\n      outputs = model.train_step(data)\n    File \"E:\\Software\\lib\\site-packages\\keras\\engine\\training.py\", line 1027, in train_step\n      self.optimizer.minimize(loss, self.trainable_variables, tape=tape)\n    File \"E:\\Software\\lib\\site-packages\\keras\\optimizers\\optimizer_v2\\optimizer_v2.py\", line 585, in minimize\n      grads_and_vars = self._compute_gradients(\n    File \"E:\\Software\\lib\\site-packages\\keras\\optimizers\\optimizer_v2\\optimizer_v2.py\", line 643, in _compute_gradients\n      grads_and_vars = self._get_gradients(\n    File \"E:\\Software\\lib\\site-packages\\keras\\optimizers\\optimizer_v2\\optimizer_v2.py\", line 519, in _get_gradients\n      grads = tape.gradient(loss, var_list, grad_loss)\nNode: 'gradient_tape/model/conv3d_12/Conv3D/Conv3DBackpropFilterV2'\nOOM when allocating tensor with shape[1,2097152,1296] and type float on /job:localhost/replica:0/task:0/device:CPU:0 by allocator cpu\n\t [[{{node gradient_tape/model/conv3d_12/Conv3D/Conv3DBackpropFilterV2}}]]\nHint: If you want to see a list of allocated tensors when OOM happens, add report_tensor_allocations_upon_oom to RunOptions for current allocation info. This isn't available when running in Eager mode.\n [Op:__inference_train_function_2590]",
     "output_type": "error",
     "traceback": [
      "\u001b[1;31m---------------------------------------------------------------------------\u001b[0m",
      "\u001b[1;31mResourceExhaustedError\u001b[0m                    Traceback (most recent call last)",
      "\u001b[1;32m~\\AppData\\Local\\Temp\\ipykernel_5004\\217905245.py\u001b[0m in \u001b[0;36m<module>\u001b[1;34m\u001b[0m\n\u001b[0;32m      1\u001b[0m \u001b[1;32mif\u001b[0m \u001b[0m__name__\u001b[0m \u001b[1;33m==\u001b[0m \u001b[1;34m'__main__'\u001b[0m\u001b[1;33m:\u001b[0m\u001b[1;33m\u001b[0m\u001b[1;33m\u001b[0m\u001b[0m\n\u001b[1;32m----> 2\u001b[1;33m     \u001b[0mmain\u001b[0m\u001b[1;33m(\u001b[0m\u001b[1;33m)\u001b[0m\u001b[1;33m\u001b[0m\u001b[1;33m\u001b[0m\u001b[0m\n\u001b[0m",
      "\u001b[1;32m~\\AppData\\Local\\Temp\\ipykernel_5004\\3113077462.py\u001b[0m in \u001b[0;36mmain\u001b[1;34m()\u001b[0m\n\u001b[0;32m      1\u001b[0m \u001b[1;32mdef\u001b[0m \u001b[0mmain\u001b[0m\u001b[1;33m(\u001b[0m\u001b[1;33m)\u001b[0m\u001b[1;33m:\u001b[0m\u001b[1;33m\u001b[0m\u001b[1;33m\u001b[0m\u001b[0m\n\u001b[1;32m----> 2\u001b[1;33m   \u001b[0mgoTrain\u001b[0m\u001b[1;33m(\u001b[0m\u001b[1;33m)\u001b[0m\u001b[1;33m\u001b[0m\u001b[1;33m\u001b[0m\u001b[0m\n\u001b[0m\u001b[0;32m      3\u001b[0m \u001b[1;33m\u001b[0m\u001b[0m\n\u001b[0;32m      4\u001b[0m \u001b[1;32mdef\u001b[0m \u001b[0mgoTrain\u001b[0m\u001b[1;33m(\u001b[0m\u001b[1;33m)\u001b[0m\u001b[1;33m:\u001b[0m\u001b[1;33m\u001b[0m\u001b[1;33m\u001b[0m\u001b[0m\n\u001b[0;32m      5\u001b[0m   \u001b[1;31m# input image dimensions\u001b[0m\u001b[1;33m\u001b[0m\u001b[1;33m\u001b[0m\u001b[0m\n",
      "\u001b[1;32m~\\AppData\\Local\\Temp\\ipykernel_5004\\3113077462.py\u001b[0m in \u001b[0;36mgoTrain\u001b[1;34m()\u001b[0m\n\u001b[0;32m     37\u001b[0m     \u001b[1;31m# Fit the model\u001b[0m\u001b[1;33m\u001b[0m\u001b[1;33m\u001b[0m\u001b[0m\n\u001b[0;32m     38\u001b[0m \u001b[1;33m\u001b[0m\u001b[0m\n\u001b[1;32m---> 39\u001b[1;33m     history=model.fit_generator(generator=train_generator,\n\u001b[0m\u001b[0;32m     40\u001b[0m     validation_data=valid_generator,epochs=100,callbacks=callbacks_list,verbose=1)\n\u001b[0;32m     41\u001b[0m     \u001b[0mmodel\u001b[0m\u001b[1;33m.\u001b[0m\u001b[0msave\u001b[0m\u001b[1;33m(\u001b[0m\u001b[1;34m'check1/fseg.hdf5'\u001b[0m\u001b[1;33m)\u001b[0m\u001b[1;33m\u001b[0m\u001b[1;33m\u001b[0m\u001b[0m\n",
      "\u001b[1;32mE:\\Software\\lib\\site-packages\\keras\\engine\\training.py\u001b[0m in \u001b[0;36mfit_generator\u001b[1;34m(self, generator, steps_per_epoch, epochs, verbose, callbacks, validation_data, validation_steps, validation_freq, class_weight, max_queue_size, workers, use_multiprocessing, shuffle, initial_epoch)\u001b[0m\n\u001b[0;32m   2602\u001b[0m             \u001b[0mstacklevel\u001b[0m\u001b[1;33m=\u001b[0m\u001b[1;36m2\u001b[0m\u001b[1;33m,\u001b[0m\u001b[1;33m\u001b[0m\u001b[1;33m\u001b[0m\u001b[0m\n\u001b[0;32m   2603\u001b[0m         )\n\u001b[1;32m-> 2604\u001b[1;33m         return self.fit(\n\u001b[0m\u001b[0;32m   2605\u001b[0m             \u001b[0mgenerator\u001b[0m\u001b[1;33m,\u001b[0m\u001b[1;33m\u001b[0m\u001b[1;33m\u001b[0m\u001b[0m\n\u001b[0;32m   2606\u001b[0m             \u001b[0msteps_per_epoch\u001b[0m\u001b[1;33m=\u001b[0m\u001b[0msteps_per_epoch\u001b[0m\u001b[1;33m,\u001b[0m\u001b[1;33m\u001b[0m\u001b[1;33m\u001b[0m\u001b[0m\n",
      "\u001b[1;32mE:\\Software\\lib\\site-packages\\keras\\utils\\traceback_utils.py\u001b[0m in \u001b[0;36merror_handler\u001b[1;34m(*args, **kwargs)\u001b[0m\n\u001b[0;32m     68\u001b[0m             \u001b[1;31m# To get the full stack trace, call:\u001b[0m\u001b[1;33m\u001b[0m\u001b[1;33m\u001b[0m\u001b[0m\n\u001b[0;32m     69\u001b[0m             \u001b[1;31m# `tf.debugging.disable_traceback_filtering()`\u001b[0m\u001b[1;33m\u001b[0m\u001b[1;33m\u001b[0m\u001b[0m\n\u001b[1;32m---> 70\u001b[1;33m             \u001b[1;32mraise\u001b[0m \u001b[0me\u001b[0m\u001b[1;33m.\u001b[0m\u001b[0mwith_traceback\u001b[0m\u001b[1;33m(\u001b[0m\u001b[0mfiltered_tb\u001b[0m\u001b[1;33m)\u001b[0m \u001b[1;32mfrom\u001b[0m \u001b[1;32mNone\u001b[0m\u001b[1;33m\u001b[0m\u001b[1;33m\u001b[0m\u001b[0m\n\u001b[0m\u001b[0;32m     71\u001b[0m         \u001b[1;32mfinally\u001b[0m\u001b[1;33m:\u001b[0m\u001b[1;33m\u001b[0m\u001b[1;33m\u001b[0m\u001b[0m\n\u001b[0;32m     72\u001b[0m             \u001b[1;32mdel\u001b[0m \u001b[0mfiltered_tb\u001b[0m\u001b[1;33m\u001b[0m\u001b[1;33m\u001b[0m\u001b[0m\n",
      "\u001b[1;32mE:\\Software\\lib\\site-packages\\tensorflow\\python\\eager\\execute.py\u001b[0m in \u001b[0;36mquick_execute\u001b[1;34m(op_name, num_outputs, inputs, attrs, ctx, name)\u001b[0m\n\u001b[0;32m     50\u001b[0m   \u001b[1;32mtry\u001b[0m\u001b[1;33m:\u001b[0m\u001b[1;33m\u001b[0m\u001b[1;33m\u001b[0m\u001b[0m\n\u001b[0;32m     51\u001b[0m     \u001b[0mctx\u001b[0m\u001b[1;33m.\u001b[0m\u001b[0mensure_initialized\u001b[0m\u001b[1;33m(\u001b[0m\u001b[1;33m)\u001b[0m\u001b[1;33m\u001b[0m\u001b[1;33m\u001b[0m\u001b[0m\n\u001b[1;32m---> 52\u001b[1;33m     tensors = pywrap_tfe.TFE_Py_Execute(ctx._handle, device_name, op_name,\n\u001b[0m\u001b[0;32m     53\u001b[0m                                         inputs, attrs, num_outputs)\n\u001b[0;32m     54\u001b[0m   \u001b[1;32mexcept\u001b[0m \u001b[0mcore\u001b[0m\u001b[1;33m.\u001b[0m\u001b[0m_NotOkStatusException\u001b[0m \u001b[1;32mas\u001b[0m \u001b[0me\u001b[0m\u001b[1;33m:\u001b[0m\u001b[1;33m\u001b[0m\u001b[1;33m\u001b[0m\u001b[0m\n",
      "\u001b[1;31mResourceExhaustedError\u001b[0m: Graph execution error:\n\nDetected at node 'gradient_tape/model/conv3d_12/Conv3D/Conv3DBackpropFilterV2' defined at (most recent call last):\n    File \"E:\\Software\\lib\\runpy.py\", line 197, in _run_module_as_main\n      return _run_code(code, main_globals, None,\n    File \"E:\\Software\\lib\\runpy.py\", line 87, in _run_code\n      exec(code, run_globals)\n    File \"E:\\Software\\lib\\site-packages\\ipykernel_launcher.py\", line 17, in <module>\n      app.launch_new_instance()\n    File \"E:\\Software\\lib\\site-packages\\traitlets\\config\\application.py\", line 846, in launch_instance\n      app.start()\n    File \"E:\\Software\\lib\\site-packages\\ipykernel\\kernelapp.py\", line 712, in start\n      self.io_loop.start()\n    File \"E:\\Software\\lib\\site-packages\\tornado\\platform\\asyncio.py\", line 199, in start\n      self.asyncio_loop.run_forever()\n    File \"E:\\Software\\lib\\asyncio\\base_events.py\", line 601, in run_forever\n      self._run_once()\n    File \"E:\\Software\\lib\\asyncio\\base_events.py\", line 1905, in _run_once\n      handle._run()\n    File \"E:\\Software\\lib\\asyncio\\events.py\", line 80, in _run\n      self._context.run(self._callback, *self._args)\n    File \"E:\\Software\\lib\\site-packages\\ipykernel\\kernelbase.py\", line 510, in dispatch_queue\n      await self.process_one()\n    File \"E:\\Software\\lib\\site-packages\\ipykernel\\kernelbase.py\", line 499, in process_one\n      await dispatch(*args)\n    File \"E:\\Software\\lib\\site-packages\\ipykernel\\kernelbase.py\", line 406, in dispatch_shell\n      await result\n    File \"E:\\Software\\lib\\site-packages\\ipykernel\\kernelbase.py\", line 730, in execute_request\n      reply_content = await reply_content\n    File \"E:\\Software\\lib\\site-packages\\ipykernel\\ipkernel.py\", line 390, in do_execute\n      res = shell.run_cell(code, store_history=store_history, silent=silent)\n    File \"E:\\Software\\lib\\site-packages\\ipykernel\\zmqshell.py\", line 528, in run_cell\n      return super().run_cell(*args, **kwargs)\n    File \"E:\\Software\\lib\\site-packages\\IPython\\core\\interactiveshell.py\", line 2914, in run_cell\n      result = self._run_cell(\n    File \"E:\\Software\\lib\\site-packages\\IPython\\core\\interactiveshell.py\", line 2960, in _run_cell\n      return runner(coro)\n    File \"E:\\Software\\lib\\site-packages\\IPython\\core\\async_helpers.py\", line 78, in _pseudo_sync_runner\n      coro.send(None)\n    File \"E:\\Software\\lib\\site-packages\\IPython\\core\\interactiveshell.py\", line 3185, in run_cell_async\n      has_raised = await self.run_ast_nodes(code_ast.body, cell_name,\n    File \"E:\\Software\\lib\\site-packages\\IPython\\core\\interactiveshell.py\", line 3377, in run_ast_nodes\n      if (await self.run_code(code, result,  async_=asy)):\n    File \"E:\\Software\\lib\\site-packages\\IPython\\core\\interactiveshell.py\", line 3457, in run_code\n      exec(code_obj, self.user_global_ns, self.user_ns)\n    File \"C:\\Users\\DELL\\AppData\\Local\\Temp\\ipykernel_5004\\217905245.py\", line 2, in <module>\n      main()\n    File \"C:\\Users\\DELL\\AppData\\Local\\Temp\\ipykernel_5004\\3113077462.py\", line 2, in main\n      goTrain()\n    File \"C:\\Users\\DELL\\AppData\\Local\\Temp\\ipykernel_5004\\3113077462.py\", line 39, in goTrain\n      history=model.fit_generator(generator=train_generator,\n    File \"E:\\Software\\lib\\site-packages\\keras\\engine\\training.py\", line 2604, in fit_generator\n      return self.fit(\n    File \"E:\\Software\\lib\\site-packages\\keras\\utils\\traceback_utils.py\", line 65, in error_handler\n      return fn(*args, **kwargs)\n    File \"E:\\Software\\lib\\site-packages\\keras\\engine\\training.py\", line 1650, in fit\n      tmp_logs = self.train_function(iterator)\n    File \"E:\\Software\\lib\\site-packages\\keras\\engine\\training.py\", line 1249, in train_function\n      return step_function(self, iterator)\n    File \"E:\\Software\\lib\\site-packages\\keras\\engine\\training.py\", line 1233, in step_function\n      outputs = model.distribute_strategy.run(run_step, args=(data,))\n    File \"E:\\Software\\lib\\site-packages\\keras\\engine\\training.py\", line 1222, in run_step\n      outputs = model.train_step(data)\n    File \"E:\\Software\\lib\\site-packages\\keras\\engine\\training.py\", line 1027, in train_step\n      self.optimizer.minimize(loss, self.trainable_variables, tape=tape)\n    File \"E:\\Software\\lib\\site-packages\\keras\\optimizers\\optimizer_v2\\optimizer_v2.py\", line 585, in minimize\n      grads_and_vars = self._compute_gradients(\n    File \"E:\\Software\\lib\\site-packages\\keras\\optimizers\\optimizer_v2\\optimizer_v2.py\", line 643, in _compute_gradients\n      grads_and_vars = self._get_gradients(\n    File \"E:\\Software\\lib\\site-packages\\keras\\optimizers\\optimizer_v2\\optimizer_v2.py\", line 519, in _get_gradients\n      grads = tape.gradient(loss, var_list, grad_loss)\nNode: 'gradient_tape/model/conv3d_12/Conv3D/Conv3DBackpropFilterV2'\nOOM when allocating tensor with shape[1,2097152,1296] and type float on /job:localhost/replica:0/task:0/device:CPU:0 by allocator cpu\n\t [[{{node gradient_tape/model/conv3d_12/Conv3D/Conv3DBackpropFilterV2}}]]\nHint: If you want to see a list of allocated tensors when OOM happens, add report_tensor_allocations_upon_oom to RunOptions for current allocation info. This isn't available when running in Eager mode.\n [Op:__inference_train_function_2590]"
     ]
    }
   ],
   "source": [
    "if __name__ == '__main__':\n",
    "    main()"
   ]
  }
 ],
 "metadata": {
  "accelerator": "GPU",
  "colab": {
   "provenance": []
  },
  "gpuClass": "standard",
  "kernelspec": {
   "display_name": "Python 3 (ipykernel)",
   "language": "python",
   "name": "python3"
  },
  "language_info": {
   "codemirror_mode": {
    "name": "ipython",
    "version": 3
   },
   "file_extension": ".py",
   "mimetype": "text/x-python",
   "name": "python",
   "nbconvert_exporter": "python",
   "pygments_lexer": "ipython3",
   "version": "3.9.16"
  }
 },
 "nbformat": 4,
 "nbformat_minor": 5
}
